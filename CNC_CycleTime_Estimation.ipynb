{
 "cells": [
  {
   "cell_type": "code",
   "execution_count": null,
   "id": "6845454f",
   "metadata": {},
   "outputs": [],
   "source": [
    "# CNC Cycle Time Estimation"
   ]
  },
  {
   "cell_type": "code",
   "execution_count": null,
   "id": "c80b8037",
   "metadata": {},
   "outputs": [],
   "source": [
    "## 1. Load Libraries and Dataset\n",
    "import pandas as pd\n",
    "import numpy as np\n",
    "import matplotlib.pyplot as plt\n",
    "import seaborn as sns\n",
    "from sklearn.model_selection import train_test_split\n",
    "from sklearn.linear_model import LinearRegression\n",
    "from sklearn.ensemble import RandomForestRegressor\n",
    "from sklearn.metrics import mean_absolute_error, mean_squared_error\n",
    "import math"
   ]
  },
  {
   "cell_type": "code",
   "execution_count": null,
   "id": "021e6332",
   "metadata": {},
   "outputs": [],
   "source": [
    "# Load dataset\n",
    "df = pd.read_csv('cleaned_cnc_data.csv')\n",
    "df.head()"
   ]
  },
  {
   "cell_type": "code",
   "execution_count": null,
   "id": "17e5ebf0",
   "metadata": {},
   "outputs": [],
   "source": [
    "## 2. Basic EDA\n",
    "df.info()\n",
    "df.describe()"
   ]
  },
  {
   "cell_type": "code",
   "execution_count": null,
   "id": "68690492",
   "metadata": {},
   "outputs": [],
   "source": [
    "# Visualizations\n",
    "sns.histplot(df['Cycle_Time_min'], kde=True)\n",
    "plt.title('Distribution of Cycle Time')\n",
    "plt.show()"
   ]
  },
  {
   "cell_type": "code",
   "execution_count": null,
   "id": "16f00b5a",
   "metadata": {},
   "outputs": [],
   "source": [
    "sns.scatterplot(data=df, x='Feature_Count', y='Cycle_Time_min', hue='Material_Steel')\n",
    "plt.title('Cycle Time vs Feature Count (highlighting Steel)')\n",
    "plt.show()"
   ]
  },
  {
   "cell_type": "code",
   "execution_count": null,
   "id": "58f16bf1",
   "metadata": {},
   "outputs": [],
   "source": [
    "sns.pairplot(df[['Cycle_Time_min', 'Volume_mm3', 'Feature_Count']])\n",
    "plt.show()"
   ]
  },
  {
   "cell_type": "code",
   "execution_count": null,
   "id": "7b16660f",
   "metadata": {},
   "outputs": [],
   "source": [
    "## 3. Feature Engineering\n",
    "df['Cost_per_mm3'] = df['Quoted_Cost'] / df['Volume_mm3']\n",
    "df['Complexity_Index'] = df['Feature_Count'] / df['Volume_mm3']"
   ]
  },
  {
   "cell_type": "code",
   "execution_count": null,
   "id": "d6c93cfe",
   "metadata": {},
   "outputs": [],
   "source": [
    "## 4. Model Training\n",
    "features = ['Volume_mm3', 'Feature_Count', 'Quoted_Cost', \n",
    "            'Material_Brass', 'Material_Copper', 'Material_Plastic', 'Material_Steel', \n",
    "            'Cost_per_mm3', 'Complexity_Index']\n",
    "target = 'Cycle_Time_min'"
   ]
  },
  {
   "cell_type": "code",
   "execution_count": null,
   "id": "501ebb1b",
   "metadata": {},
   "outputs": [],
   "source": [
    "X = df[features]\n",
    "y = df[target]"
   ]
  },
  {
   "cell_type": "code",
   "execution_count": null,
   "id": "64ba8b0c",
   "metadata": {},
   "outputs": [],
   "source": [
    "X_train, X_test, y_train, y_test = train_test_split(X, y, test_size=0.2, random_state=42)"
   ]
  },
  {
   "cell_type": "code",
   "execution_count": null,
   "id": "891066a8",
   "metadata": {},
   "outputs": [],
   "source": [
    "# Linear Regression\n",
    "lr = LinearRegression()\n",
    "lr.fit(X_train, y_train)\n",
    "y_pred_lr = lr.predict(X_test)"
   ]
  },
  {
   "cell_type": "code",
   "execution_count": null,
   "id": "00e5b605",
   "metadata": {},
   "outputs": [],
   "source": [
    "# Random Forest\n",
    "rf = RandomForestRegressor(n_estimators=100, random_state=42)\n",
    "rf.fit(X_train, y_train)\n",
    "y_pred_rf = rf.predict(X_test)"
   ]
  },
  {
   "cell_type": "code",
   "execution_count": null,
   "id": "e78edbc5",
   "metadata": {},
   "outputs": [],
   "source": [
    "## 5. Evaluation\n",
    "def evaluate_model(y_true, y_pred, model_name):\n",
    "    mae = mean_absolute_error(y_true, y_pred)\n",
    "    rmse = math.sqrt(mean_squared_error(y_true, y_pred))\n",
    "    print(f\"{model_name} MAE: {mae:.2f}\")\n",
    "    print(f\"{model_name} RMSE: {rmse:.2f}\")\n",
    "    sns.scatterplot(x=y_true, y=y_pred)\n",
    "    plt.xlabel(\"Actual Cycle Time\")\n",
    "    plt.ylabel(\"Predicted Cycle Time\")\n",
    "    plt.title(f\"{model_name} - Actual vs Predicted\")\n",
    "    plt.plot([y_true.min(), y_true.max()], [y_true.min(), y_true.max()], 'r--')\n",
    "    plt.show()"
   ]
  },
  {
   "cell_type": "code",
   "execution_count": null,
   "id": "be6f1bd0",
   "metadata": {},
   "outputs": [],
   "source": [
    "evaluate_model(y_test, y_pred_lr, \"Linear Regression\")\n",
    "evaluate_model(y_test, y_pred_rf, \"Random Forest\")"
   ]
  },
  {
   "cell_type": "code",
   "execution_count": null,
   "id": "7d7bc2dc",
   "metadata": {},
   "outputs": [],
   "source": [
    "## 6. Feature Importance (Random Forest)\n",
    "importances = rf.feature_importances_\n",
    "feature_names = X.columns\n",
    "feat_imp = pd.Series(importances, index=feature_names).sort_values(ascending=False)"
   ]
  },
  {
   "cell_type": "code",
   "execution_count": null,
   "id": "9f960e9e",
   "metadata": {},
   "outputs": [],
   "source": [
    "sns.barplot(x=feat_imp, y=feat_imp.index)\n",
    "plt.title(\"Feature Importance (Random Forest)\")\n",
    "plt.xlabel(\"Importance Score\")\n",
    "plt.show()"
   ]
  },
  {
   "cell_type": "code",
   "execution_count": null,
   "id": "e975f322",
   "metadata": {},
   "outputs": [],
   "source": [
    "## 7. Conclusion\n",
    "print(\"Random Forest produced better predictions for Cycle Time compared to Linear Regression.\")\n",
    "print(\"Quoted cost and feature count were key predictors of machining cycle time.\")"
   ]
  }
 ],
 "metadata": {},
 "nbformat": 4,
 "nbformat_minor": 5
}
